{
  "nbformat": 4,
  "nbformat_minor": 0,
  "metadata": {
    "colab": {
      "name": "Regression.ipynb",
      "provenance": [],
      "authorship_tag": "ABX9TyNBr7aBltUp061hS80b8YtC",
      "include_colab_link": true
    },
    "kernelspec": {
      "name": "python3",
      "display_name": "Python 3"
    },
    "language_info": {
      "name": "python"
    }
  },
  "cells": [
    {
      "cell_type": "markdown",
      "metadata": {
        "id": "view-in-github",
        "colab_type": "text"
      },
      "source": [
        "<a href=\"https://colab.research.google.com/github/Nuttanon15/Regression/blob/main/Regression.ipynb\" target=\"_parent\"><img src=\"https://colab.research.google.com/assets/colab-badge.svg\" alt=\"Open In Colab\"/></a>"
      ]
    },
    {
      "cell_type": "code",
      "execution_count": null,
      "metadata": {
        "id": "GfGDUk9uYzf9"
      },
      "outputs": [],
      "source": [
        "from sklearn.svm import SVR  # เลือกคลาสของแบบจำลองโดยนำเข้าคลาสตัวประมาณที่เหมาะสมจาก Scikit-Learn\n"
      ]
    },
    {
      "cell_type": "code",
      "source": [
        "model = SVR() #  เลือกคลาสของแบบจำลองโดยนำเข้าคลาสตัวประมาณที่เหมาะสมจาก Scikit-Learn"
      ],
      "metadata": {
        "id": "cT4uITRvaYpt"
      },
      "execution_count": null,
      "outputs": []
    },
    {
      "cell_type": "code",
      "source": [
        "import pandas as pd\n",
        "df = pd.read_csv('winequality-red.csv',sep=';')         # จัดเรียงข้อมูลลงในเมทริกซ์คุณลักษณะและเวกเตอร์เป้าหมาย\n",
        "df.head()"
      ],
      "metadata": {
        "id": "arCNnUAqa4H-"
      },
      "execution_count": null,
      "outputs": []
    },
    {
      "cell_type": "code",
      "source": [
        "df.shape  #ตรวจสอบรูปร่าง"
      ],
      "metadata": {
        "id": "Md-r29oBbkAw"
      },
      "execution_count": null,
      "outputs": []
    },
    {
      "cell_type": "code",
      "source": [
        "df.info()   #ตรวจสอบขนาดของข้อมูล"
      ],
      "metadata": {
        "id": "AFwAGPdwcxId"
      },
      "execution_count": null,
      "outputs": []
    },
    {
      "cell_type": "code",
      "source": [
        "df.describe()  #แสดงรายละเอียด"
      ],
      "metadata": {
        "id": "tqMCBoUmc2Hn"
      },
      "execution_count": null,
      "outputs": []
    },
    {
      "cell_type": "code",
      "source": [
        "x = df.drop('quality' , axis = 1)       #กำหนดค่าตัวแปล\n",
        "y = df['quality']"
      ],
      "metadata": {
        "id": "nsc7_wcnc9pK"
      },
      "execution_count": null,
      "outputs": []
    },
    {
      "cell_type": "code",
      "source": [
        "from sklearn.model_selection import train_test_split\n",
        "\n",
        "X_train, X_test, y_train, y_test = train_test_split(x,y, test_size = 0.2,random_state = 80)        #train และป้อนค่าตัวแปล"
      ],
      "metadata": {
        "id": "1DRHuJctdPcR"
      },
      "execution_count": null,
      "outputs": []
    },
    {
      "cell_type": "code",
      "source": [
        "model.fit(X_train,y_train)   #train โมเดล\n"
      ],
      "metadata": {
        "id": "vdTUYkvlhO0m"
      },
      "execution_count": null,
      "outputs": []
    },
    {
      "cell_type": "markdown",
      "source": [
        "# ส่วนใหม่"
      ],
      "metadata": {
        "id": "_yLbH7Xzn4ne"
      }
    },
    {
      "cell_type": "code",
      "source": [
        "y_predict = model.predict(X_test)  #ใช้โมเดลกับข้อมูลใหม่"
      ],
      "metadata": {
        "id": "0gBlwpnwhd0S"
      },
      "execution_count": null,
      "outputs": []
    },
    {
      "cell_type": "code",
      "source": [
        "from sklearn.metrics import r2_score     # import r2_score เพื่อ เช็คค่าข้อมูล ที่ทำได้\n",
        "r2_score(y_test,y_predict) "
      ],
      "metadata": {
        "id": "9TG7DmEwhqUy"
      },
      "execution_count": null,
      "outputs": []
    }
  ]
}